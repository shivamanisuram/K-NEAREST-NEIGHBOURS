{
  "nbformat": 4,
  "nbformat_minor": 0,
  "metadata": {
    "colab": {
      "provenance": []
    },
    "kernelspec": {
      "name": "python3",
      "display_name": "Python 3"
    },
    "language_info": {
      "name": "python"
    }
  },
  "cells": [
    {
      "cell_type": "code",
      "execution_count": 1,
      "metadata": {
        "id": "cExhBHW1YMrH"
      },
      "outputs": [],
      "source": [
        "  import numpy as np"
      ]
    },
    {
      "cell_type": "markdown",
      "source": [
        "![image.png](data:image/png;base64,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)"
      ],
      "metadata": {
        "id": "SvFalGOAYs0p"
      }
    },
    {
      "cell_type": "code",
      "source": [
        "#consider two points with 2 dimesnions\n",
        "p1=(1,1)\n",
        "p2=(2,2)"
      ],
      "metadata": {
        "id": "gDz2xoRiYvse"
      },
      "execution_count": 2,
      "outputs": []
    },
    {
      "cell_type": "code",
      "source": [
        "dist = (p1[0]-p2[0])**2+(p1[1]-p2[1])**2"
      ],
      "metadata": {
        "id": "CeefEKj5YsL9"
      },
      "execution_count": 4,
      "outputs": []
    },
    {
      "source": [
        "import math\n",
        "\n",
        "p = math.sqrt(dist)"
      ],
      "cell_type": "code",
      "metadata": {
        "id": "2v4jEQFMZZ9b"
      },
      "execution_count": 7,
      "outputs": []
    },
    {
      "cell_type": "code",
      "source": [
        "print(p)"
      ],
      "metadata": {
        "colab": {
          "base_uri": "https://localhost:8080/"
        },
        "id": "tYKE2EI4ZUCr",
        "outputId": "350a17ba-220e-4541-d98e-249771f6b25b"
      },
      "execution_count": 8,
      "outputs": [
        {
          "output_type": "stream",
          "name": "stdout",
          "text": [
            "1.4142135623730951\n"
          ]
        }
      ]
    },
    {
      "cell_type": "code",
      "source": [
        "#consider two points with 3 dimensions\n",
        "p1=(1,1,1)\n",
        "p2=(2,2,2)\n",
        "#clauclating  euclidean distance\n",
        "# calculating Euclidean Distance\n",
        "\n",
        "dist = (p1[0] - p2[0])**2 + (p1[1] - p2[1])**2 + (p1[2] - p2[2])**2\n",
        "\n",
        "euclidean_dist = np.sqrt(dist)\n",
        "print(euclidean_dist)\n"
      ],
      "metadata": {
        "colab": {
          "base_uri": "https://localhost:8080/"
        },
        "id": "8-cWHUQ6Zc9b",
        "outputId": "afaa7ffb-bdb0-4968-dd4a-8fa6a2f4826a"
      },
      "execution_count": 9,
      "outputs": [
        {
          "output_type": "stream",
          "name": "stdout",
          "text": [
            "1.7320508075688772\n"
          ]
        }
      ]
    },
    {
      "cell_type": "code",
      "source": [
        "# consider two points with 4 dimensions\n",
        "p1 = (1,1,1,1)\n",
        "p2 = (2,2,2,2)\n",
        "\n",
        "dist = 0\n",
        "\n",
        "for i in range(len(p1)):\n",
        "  dist = dist + (p1[i] - p2[i])**2\n",
        "\n",
        "euclidean_dist = np.sqrt(dist)\n",
        "print(euclidean_dist)"
      ],
      "metadata": {
        "colab": {
          "base_uri": "https://localhost:8080/"
        },
        "id": "xthj-9hrZwEQ",
        "outputId": "6de69956-8fe5-4302-915a-fae5990ba2fc"
      },
      "execution_count": 10,
      "outputs": [
        {
          "output_type": "stream",
          "name": "stdout",
          "text": [
            "2.0\n"
          ]
        }
      ]
    },
    {
      "cell_type": "code",
      "source": [
        "def get_euclidean_distance(p1, p2):\n",
        "\n",
        "  dist = 0\n",
        "\n",
        "  for i in range(len(p1)):\n",
        "    dist = dist + (p1[i] - p2[i])**2\n",
        "\n",
        "  euclidean_dist = np.sqrt(dist)\n",
        "  print(euclidean_dist)"
      ],
      "metadata": {
        "id": "RezI8iTsblR8"
      },
      "execution_count": 16,
      "outputs": []
    },
    {
      "cell_type": "code",
      "source": [
        "get_euclidean_distance((1,1,1), (2,2,2))"
      ],
      "metadata": {
        "colab": {
          "base_uri": "https://localhost:8080/"
        },
        "id": "-JKUKa3lbnVm",
        "outputId": "cbd2d49f-b588-4705-e3d5-5522f1dbaaf6"
      },
      "execution_count": 17,
      "outputs": [
        {
          "output_type": "stream",
          "name": "stdout",
          "text": [
            "1.7320508075688772\n"
          ]
        }
      ]
    },
    {
      "cell_type": "markdown",
      "source": [
        "Manhattan distance"
      ],
      "metadata": {
        "id": "wkH_Uk7jalGm"
      }
    },
    {
      "cell_type": "markdown",
      "source": [
        "![image.png](data:image/png;base64,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)"
      ],
      "metadata": {
        "id": "E99fM54PaZVB"
      }
    },
    {
      "cell_type": "code",
      "source": [
        "#creating a function for euclidean distance\n",
        "def get_manhattan_distance(p1, p2):\n",
        "\n",
        "  dist = 0\n",
        "\n",
        "  for i in range(len(p1)):\n",
        "    dist = dist + abs(p1[i] - p2[i])\n",
        "\n",
        "    manhattan_dist = dist\n",
        "\n",
        "  print(manhattan_dist)\n",
        ""
      ],
      "metadata": {
        "id": "XXGPNm77aadO"
      },
      "execution_count": 11,
      "outputs": []
    },
    {
      "cell_type": "code",
      "source": [
        "get_manhattan_distance((1,1,1,1),(2,2,2,2))"
      ],
      "metadata": {
        "colab": {
          "base_uri": "https://localhost:8080/"
        },
        "id": "ZsyfmeRma-xr",
        "outputId": "27266931-1d47-466a-e16b-8bf631e4ef19"
      },
      "execution_count": 12,
      "outputs": [
        {
          "output_type": "stream",
          "name": "stdout",
          "text": [
            "4\n"
          ]
        }
      ]
    },
    {
      "cell_type": "code",
      "source": [
        "print(abs(1-2))"
      ],
      "metadata": {
        "colab": {
          "base_uri": "https://localhost:8080/"
        },
        "id": "fTvjHGXHbEnA",
        "outputId": "265735c0-3c3b-4e70-e2e9-b81b9b9ba469"
      },
      "execution_count": 13,
      "outputs": [
        {
          "output_type": "stream",
          "name": "stdout",
          "text": [
            "1\n"
          ]
        }
      ]
    },
    {
      "cell_type": "code",
      "source": [
        " #distance between two similar data points\n",
        "\n",
        "print(get_euclidean_distance((63,1,3,145,233,1,0,150,0,2.3,0,0,1),(37,1,2,130,250,0,1,187,0,3.5,0,0,2)))\n",
        "print(get_manhattan_distance((63,1,3,145,233,1,0,150,0,2.3,0,0,1),(37,1,2,130,250,0,1,187,0,3.5,0,0,2)))"
      ],
      "metadata": {
        "colab": {
          "base_uri": "https://localhost:8080/"
        },
        "id": "ziuiIUw5bW5o",
        "outputId": "e2a40c66-4db6-4062-9c3f-e9b102ae9bb8"
      },
      "execution_count": 18,
      "outputs": [
        {
          "output_type": "stream",
          "name": "stdout",
          "text": [
            "50.640300157088326\n",
            "None\n",
            "100.2\n",
            "None\n"
          ]
        }
      ]
    },
    {
      "cell_type": "code",
      "source": [
        "# distance between two dissimilar data points\n",
        "\n",
        "# distance between two dissimilar data points\n",
        "\n",
        "print(get_euclidean_distance((63,1,3,145,233,1,0,150,0,2.3,0,0,1),(67,1,0,160,286,0,0,108,1,1.5,1,3,2)))\n",
        "print(get_manhattan_distance((63,1,3,145,233,1,0,150,0,2.3,0,0,1),(67,1,0,160,286,0,0,108,1,1.5,1,3,2)))\n",
        "print(get_manhattan_distance((63,1,3,145,233,1,0,150,0,2.3,0,0,1),(67,1,0,160,286,0,0,108,1,1.5,1,3,2)))"
      ],
      "metadata": {
        "colab": {
          "base_uri": "https://localhost:8080/"
        },
        "id": "g-J6UA6wbcBw",
        "outputId": "4a7d3de3-1b9d-4425-da94-9ea276a54a44"
      },
      "execution_count": 21,
      "outputs": [
        {
          "output_type": "stream",
          "name": "stdout",
          "text": [
            "69.54595602908914\n",
            "None\n",
            "124.8\n",
            "None\n",
            "124.8\n",
            "None\n"
          ]
        }
      ]
    }
  ]
}